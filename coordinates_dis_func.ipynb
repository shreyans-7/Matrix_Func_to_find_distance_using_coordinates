{
 "cells": [
  {
   "cell_type": "code",
   "execution_count": 9,
   "metadata": {
    "id": "3fvX3OYZfnLu"
   },
   "outputs": [],
   "source": [
    "import pandas as pd\n",
    "import numpy as np\n",
    "import sklearn.neighbors"
   ]
  },
  {
   "cell_type": "code",
   "execution_count": null,
   "metadata": {},
   "outputs": [],
   "source": []
  },
  {
   "cell_type": "code",
   "execution_count": 10,
   "metadata": {},
   "outputs": [],
   "source": [
    "a = [(17.18, 78), (13, 78), (13, 26), (28, 76)]\n",
    "b = [(28, 77), (13, 77), (20, 68)]"
   ]
  },
  {
   "cell_type": "markdown",
   "metadata": {},
   "source": [
    "#### The below function tells the distance between a set of coordinate with a results giving the ditances in Kilometres using Haversine formula. In simple words it can give you the distance of all coordinates in Place_b from a single point coordinate in Place_a .The ouput is in a matrix form for better understanding"
   ]
  },
  {
   "cell_type": "code",
   "execution_count": 13,
   "metadata": {},
   "outputs": [],
   "source": [
    "def find_the_dist(Coordinates_a,Coordinates_b):\n",
    "\n",
    "    lat_a=[]\n",
    "    lon_a=[]\n",
    "    lat_b=[]\n",
    "    lon_b=[]\n",
    "    for i in range(len(Coordinates_a)):  \n",
    "        lat_a.append(np.radians(a[i][0]))\n",
    "        lon_a.append(np.radians(a[i][1]))\n",
    "        df1=pd.DataFrame(list(zip(Coordinates_a,lat_a,lon_a)),columns=['Coordinates_a','lat_a','lon_a'])\n",
    "        \n",
    "        for j in range(len(Coordinates_b)):\n",
    "            lat_b.append(np.radians(b[j][0]))\n",
    "            lon_b.append(np.radians(b[j][1]))\n",
    "            df2=pd.DataFrame(list(zip(Coordinates_b,lat_b,lon_b)),columns=['Coordinates_b','lat_b','lon_b'])\n",
    "    \n",
    "        dis = sklearn.neighbors.DistanceMetric.get_metric('haversine')\n",
    "        dis_matrix = (dis.pairwise\n",
    "            (df1[['lat_a','lon_a']],\n",
    "             df2[['lat_b','lon_b']])*3959)\n",
    "        dis_df= pd.DataFrame(dis_matrix,index=df1['Coordinates_a'])\n",
    "    print(dis_df)\n",
    "   "
   ]
  },
  {
   "cell_type": "code",
   "execution_count": 14,
   "metadata": {},
   "outputs": [
    {
     "name": "stdout",
     "output_type": "stream",
     "text": [
      "                         0            1            2\n",
      "Coordinates_a                                       \n",
      "(17.18, 78)     750.340547   296.428800   683.129842\n",
      "(13, 78)       1038.466182    67.326575   819.819013\n",
      "(13, 26)       3432.936081  3427.458655  2816.924695\n",
      "(28, 76)         61.009376  1038.466182   748.232270\n"
     ]
    }
   ],
   "source": [
    "find_the_dist(a,b)"
   ]
  },
  {
   "cell_type": "code",
   "execution_count": null,
   "metadata": {},
   "outputs": [],
   "source": []
  }
 ],
 "metadata": {
  "colab": {
   "collapsed_sections": [],
   "name": "Copy of PythonAssignment-GlobalSchools(Public).ipynb",
   "provenance": [
    {
     "file_id": "1BxzbPWYXdR-pWjUfJ18zZS6LKcRS5jbZ",
     "timestamp": 1609305407990
    }
   ]
  },
  "kernelspec": {
   "display_name": "Python 3",
   "language": "python",
   "name": "python3"
  },
  "language_info": {
   "codemirror_mode": {
    "name": "ipython",
    "version": 3
   },
   "file_extension": ".py",
   "mimetype": "text/x-python",
   "name": "python",
   "nbconvert_exporter": "python",
   "pygments_lexer": "ipython3",
   "version": "3.8.3"
  }
 },
 "nbformat": 4,
 "nbformat_minor": 4
}
